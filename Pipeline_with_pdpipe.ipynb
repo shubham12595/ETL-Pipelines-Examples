{
  "nbformat": 4,
  "nbformat_minor": 0,
  "metadata": {
    "colab": {
      "name": "Pipeline_with_pdpipe.ipynb",
      "provenance": [],
      "collapsed_sections": []
    },
    "kernelspec": {
      "name": "python3",
      "display_name": "Python 3"
    }
  },
  "cells": [
    {
      "cell_type": "code",
      "metadata": {
        "id": "xWaW2bLa0072",
        "colab_type": "code",
        "colab": {
          "base_uri": "https://localhost:8080/",
          "height": 417
        },
        "outputId": "e5d7e37a-a3d9-4983-8479-7b1d5e20e1a6"
      },
      "source": [
        "!pip install pdpipe"
      ],
      "execution_count": 2,
      "outputs": [
        {
          "output_type": "stream",
          "text": [
            "Collecting pdpipe\n",
            "\u001b[?25l  Downloading https://files.pythonhosted.org/packages/44/dc/6f4bd0b02517d19f94e10c1fbed9177bf173b2aceb63cf930ff4df9348fc/pdpipe-0.0.49-py3-none-any.whl (48kB)\n",
            "\r\u001b[K     |██████▉                         | 10kB 17.4MB/s eta 0:00:01\r\u001b[K     |█████████████▋                  | 20kB 1.5MB/s eta 0:00:01\r\u001b[K     |████████████████████▍           | 30kB 2.0MB/s eta 0:00:01\r\u001b[K     |███████████████████████████▎    | 40kB 1.6MB/s eta 0:00:01\r\u001b[K     |████████████████████████████████| 51kB 1.6MB/s \n",
            "\u001b[?25hRequirement already satisfied: sortedcontainers in /usr/local/lib/python3.6/dist-packages (from pdpipe) (2.1.0)\n",
            "Collecting strct\n",
            "  Downloading https://files.pythonhosted.org/packages/4a/c4/bd0de8562cb3731bdfcc33a4627c755a2d9c5e6e96b73546134c43acf1be/strct-0.0.30-py2.py3-none-any.whl\n",
            "Collecting skutil>=0.0.15\n",
            "  Downloading https://files.pythonhosted.org/packages/34/2b/1b5c9e7be3c24e1bd5ce35c2d27a5780989c3d90fcee10f3fee3074dda7f/skutil-0.0.16-py2.py3-none-any.whl\n",
            "Requirement already satisfied: pandas>=0.18.0 in /usr/local/lib/python3.6/dist-packages (from pdpipe) (1.0.3)\n",
            "Requirement already satisfied: tqdm in /usr/local/lib/python3.6/dist-packages (from pdpipe) (4.41.1)\n",
            "Requirement already satisfied: numpy in /usr/local/lib/python3.6/dist-packages (from skutil>=0.0.15->pdpipe) (1.18.4)\n",
            "Collecting decore\n",
            "  Downloading https://files.pythonhosted.org/packages/b4/69/9e3da3a87058d43e5b9f0f668f69da591b8b0c2763b3afbfea084582ea57/decore-0.0.1.tar.gz\n",
            "Requirement already satisfied: pytz>=2017.2 in /usr/local/lib/python3.6/dist-packages (from pandas>=0.18.0->pdpipe) (2018.9)\n",
            "Requirement already satisfied: python-dateutil>=2.6.1 in /usr/local/lib/python3.6/dist-packages (from pandas>=0.18.0->pdpipe) (2.8.1)\n",
            "Requirement already satisfied: six>=1.5 in /usr/local/lib/python3.6/dist-packages (from python-dateutil>=2.6.1->pandas>=0.18.0->pdpipe) (1.12.0)\n",
            "Building wheels for collected packages: decore\n",
            "  Building wheel for decore (setup.py) ... \u001b[?25l\u001b[?25hdone\n",
            "  Created wheel for decore: filename=decore-0.0.1-py2.py3-none-any.whl size=4190 sha256=8aa9e9a4b17158cb9b8fc944f1b0fb0a584c32f7eabbd30b9d5be7c5e0f3f295\n",
            "  Stored in directory: /root/.cache/pip/wheels/6c/1b/9c/71fa8b5df01cc605c4b5cadcd81df76d520149ca5c02b4013b\n",
            "Successfully built decore\n",
            "Installing collected packages: strct, decore, skutil, pdpipe\n",
            "Successfully installed decore-0.0.1 pdpipe-0.0.49 skutil-0.0.16 strct-0.0.30\n"
          ],
          "name": "stdout"
        }
      ]
    },
    {
      "cell_type": "code",
      "metadata": {
        "id": "jueVBKOJ1MUP",
        "colab_type": "code",
        "colab": {}
      },
      "source": [
        ""
      ],
      "execution_count": 0,
      "outputs": []
    },
    {
      "cell_type": "markdown",
      "metadata": {
        "id": "FufLgOx20-6s",
        "colab_type": "text"
      },
      "source": [
        "# Pipelining using pandas pdpipe."
      ]
    },
    {
      "cell_type": "code",
      "metadata": {
        "id": "aC73-b0W1D7k",
        "colab_type": "code",
        "colab": {}
      },
      "source": [
        "import pandas as pd\n",
        "import numpy as np\n",
        "import pdpipe as pdp"
      ],
      "execution_count": 0,
      "outputs": []
    },
    {
      "cell_type": "code",
      "metadata": {
        "id": "Uqbsy-gI1HmL",
        "colab_type": "code",
        "colab": {}
      },
      "source": [
        "df = pd.read_csv(\"/content/datasets_4909_7459_USA_Housing.csv\")"
      ],
      "execution_count": 0,
      "outputs": []
    },
    {
      "cell_type": "code",
      "metadata": {
        "id": "G0Z7ESLj1dj3",
        "colab_type": "code",
        "colab": {
          "base_uri": "https://localhost:8080/",
          "height": 107
        },
        "outputId": "e2361d64-22c0-46e8-eda0-fe98627195f5"
      },
      "source": [
        "df.head(2)"
      ],
      "execution_count": 5,
      "outputs": [
        {
          "output_type": "execute_result",
          "data": {
            "text/html": [
              "<div>\n",
              "<style scoped>\n",
              "    .dataframe tbody tr th:only-of-type {\n",
              "        vertical-align: middle;\n",
              "    }\n",
              "\n",
              "    .dataframe tbody tr th {\n",
              "        vertical-align: top;\n",
              "    }\n",
              "\n",
              "    .dataframe thead th {\n",
              "        text-align: right;\n",
              "    }\n",
              "</style>\n",
              "<table border=\"1\" class=\"dataframe\">\n",
              "  <thead>\n",
              "    <tr style=\"text-align: right;\">\n",
              "      <th></th>\n",
              "      <th>Avg. Area Income</th>\n",
              "      <th>Avg. Area House Age</th>\n",
              "      <th>Avg. Area Number of Rooms</th>\n",
              "      <th>Avg. Area Number of Bedrooms</th>\n",
              "      <th>Area Population</th>\n",
              "      <th>Price</th>\n",
              "      <th>Address</th>\n",
              "    </tr>\n",
              "  </thead>\n",
              "  <tbody>\n",
              "    <tr>\n",
              "      <th>0</th>\n",
              "      <td>79545.458574</td>\n",
              "      <td>5.682861</td>\n",
              "      <td>7.009188</td>\n",
              "      <td>4.09</td>\n",
              "      <td>23086.800503</td>\n",
              "      <td>1.059034e+06</td>\n",
              "      <td>208 Michael Ferry Apt. 674\\nLaurabury, NE 3701...</td>\n",
              "    </tr>\n",
              "    <tr>\n",
              "      <th>1</th>\n",
              "      <td>79248.642455</td>\n",
              "      <td>6.002900</td>\n",
              "      <td>6.730821</td>\n",
              "      <td>3.09</td>\n",
              "      <td>40173.072174</td>\n",
              "      <td>1.505891e+06</td>\n",
              "      <td>188 Johnson Views Suite 079\\nLake Kathleen, CA...</td>\n",
              "    </tr>\n",
              "  </tbody>\n",
              "</table>\n",
              "</div>"
            ],
            "text/plain": [
              "   Avg. Area Income  ...                                            Address\n",
              "0      79545.458574  ...  208 Michael Ferry Apt. 674\\nLaurabury, NE 3701...\n",
              "1      79248.642455  ...  188 Johnson Views Suite 079\\nLake Kathleen, CA...\n",
              "\n",
              "[2 rows x 7 columns]"
            ]
          },
          "metadata": {
            "tags": []
          },
          "execution_count": 5
        }
      ]
    },
    {
      "cell_type": "code",
      "metadata": {
        "id": "RkqEDQfi1hlj",
        "colab_type": "code",
        "colab": {
          "base_uri": "https://localhost:8080/",
          "height": 34
        },
        "outputId": "ae3b6453-dd9f-4801-e748-9dc971be843e"
      },
      "source": [
        "df.shape"
      ],
      "execution_count": 7,
      "outputs": [
        {
          "output_type": "execute_result",
          "data": {
            "text/plain": [
              "(5000, 7)"
            ]
          },
          "metadata": {
            "tags": []
          },
          "execution_count": 7
        }
      ]
    },
    {
      "cell_type": "code",
      "metadata": {
        "id": "HKJAzgLf1nJz",
        "colab_type": "code",
        "colab": {
          "base_uri": "https://localhost:8080/",
          "height": 69
        },
        "outputId": "11132f2c-b1ec-42b3-ad25-336f0b0e24e5"
      },
      "source": [
        "\n",
        "df.columns"
      ],
      "execution_count": 8,
      "outputs": [
        {
          "output_type": "execute_result",
          "data": {
            "text/plain": [
              "Index(['Avg. Area Income', 'Avg. Area House Age', 'Avg. Area Number of Rooms',\n",
              "       'Avg. Area Number of Bedrooms', 'Area Population', 'Price', 'Address'],\n",
              "      dtype='object')"
            ]
          },
          "metadata": {
            "tags": []
          },
          "execution_count": 8
        }
      ]
    },
    {
      "cell_type": "code",
      "metadata": {
        "id": "9-El9yHk1pqp",
        "colab_type": "code",
        "colab": {}
      },
      "source": [
        "def size(n):\n",
        "    if n<=4:\n",
        "        return 'Small'\n",
        "    elif 4<n<=6:\n",
        "        return 'Medium'\n",
        "    else:\n",
        "        return 'Big'\n",
        "df['House_size'] = df['Avg. Area Number of Rooms'].apply(size)"
      ],
      "execution_count": 0,
      "outputs": []
    },
    {
      "cell_type": "code",
      "metadata": {
        "id": "uFI6i3Bs2BPM",
        "colab_type": "code",
        "colab": {
          "base_uri": "https://localhost:8080/",
          "height": 107
        },
        "outputId": "e897ee47-2526-43bd-a821-5702e703e903"
      },
      "source": [
        "df.head(2)"
      ],
      "execution_count": 10,
      "outputs": [
        {
          "output_type": "execute_result",
          "data": {
            "text/html": [
              "<div>\n",
              "<style scoped>\n",
              "    .dataframe tbody tr th:only-of-type {\n",
              "        vertical-align: middle;\n",
              "    }\n",
              "\n",
              "    .dataframe tbody tr th {\n",
              "        vertical-align: top;\n",
              "    }\n",
              "\n",
              "    .dataframe thead th {\n",
              "        text-align: right;\n",
              "    }\n",
              "</style>\n",
              "<table border=\"1\" class=\"dataframe\">\n",
              "  <thead>\n",
              "    <tr style=\"text-align: right;\">\n",
              "      <th></th>\n",
              "      <th>Avg. Area Income</th>\n",
              "      <th>Avg. Area House Age</th>\n",
              "      <th>Avg. Area Number of Rooms</th>\n",
              "      <th>Avg. Area Number of Bedrooms</th>\n",
              "      <th>Area Population</th>\n",
              "      <th>Price</th>\n",
              "      <th>Address</th>\n",
              "      <th>House_size</th>\n",
              "    </tr>\n",
              "  </thead>\n",
              "  <tbody>\n",
              "    <tr>\n",
              "      <th>0</th>\n",
              "      <td>79545.458574</td>\n",
              "      <td>5.682861</td>\n",
              "      <td>7.009188</td>\n",
              "      <td>4.09</td>\n",
              "      <td>23086.800503</td>\n",
              "      <td>1.059034e+06</td>\n",
              "      <td>208 Michael Ferry Apt. 674\\nLaurabury, NE 3701...</td>\n",
              "      <td>Big</td>\n",
              "    </tr>\n",
              "    <tr>\n",
              "      <th>1</th>\n",
              "      <td>79248.642455</td>\n",
              "      <td>6.002900</td>\n",
              "      <td>6.730821</td>\n",
              "      <td>3.09</td>\n",
              "      <td>40173.072174</td>\n",
              "      <td>1.505891e+06</td>\n",
              "      <td>188 Johnson Views Suite 079\\nLake Kathleen, CA...</td>\n",
              "      <td>Big</td>\n",
              "    </tr>\n",
              "  </tbody>\n",
              "</table>\n",
              "</div>"
            ],
            "text/plain": [
              "   Avg. Area Income  ...  House_size\n",
              "0      79545.458574  ...         Big\n",
              "1      79248.642455  ...         Big\n",
              "\n",
              "[2 rows x 8 columns]"
            ]
          },
          "metadata": {
            "tags": []
          },
          "execution_count": 10
        }
      ]
    },
    {
      "cell_type": "markdown",
      "metadata": {
        "id": "v-qXfCga23Bl",
        "colab_type": "text"
      },
      "source": [
        "# **Chaining the stages and doing the following operations - Droping the Age Column and Hot Encoding te House_Size column using Pipeline**"
      ]
    },
    {
      "cell_type": "code",
      "metadata": {
        "id": "Ms9HhLEn2u45",
        "colab_type": "code",
        "colab": {
          "base_uri": "https://localhost:8080/",
          "height": 167
        },
        "outputId": "b5e47d86-ca30-46f4-ec1c-58b44c3ed7ff"
      },
      "source": [
        "def price(x):\n",
        "    if x>250000:\n",
        "        return 'keep'\n",
        "    else:\n",
        "        return 'drop'\n",
        "\n",
        "pipe = pdp.ColDrop('Avg. Area House Age')\n",
        "pipe+= pdp.OneHotEncode('House_size')\n",
        "pipe+=pdp.ApplyByCols('Price',price,'Price_tag',drop=False)\n",
        "pipe+=pdp.ValDrop(['drop'],'Price_tag')\n",
        "pipe+= pdp.ColDrop('Price_tag')\n",
        "df4 = pipe(df)\n",
        "df4.head(4)\n"
      ],
      "execution_count": 21,
      "outputs": [
        {
          "output_type": "execute_result",
          "data": {
            "text/html": [
              "<div>\n",
              "<style scoped>\n",
              "    .dataframe tbody tr th:only-of-type {\n",
              "        vertical-align: middle;\n",
              "    }\n",
              "\n",
              "    .dataframe tbody tr th {\n",
              "        vertical-align: top;\n",
              "    }\n",
              "\n",
              "    .dataframe thead th {\n",
              "        text-align: right;\n",
              "    }\n",
              "</style>\n",
              "<table border=\"1\" class=\"dataframe\">\n",
              "  <thead>\n",
              "    <tr style=\"text-align: right;\">\n",
              "      <th></th>\n",
              "      <th>Avg. Area Income</th>\n",
              "      <th>Avg. Area Number of Rooms</th>\n",
              "      <th>Avg. Area Number of Bedrooms</th>\n",
              "      <th>Area Population</th>\n",
              "      <th>Price</th>\n",
              "      <th>Address</th>\n",
              "      <th>House_size_Medium</th>\n",
              "      <th>House_size_Small</th>\n",
              "    </tr>\n",
              "  </thead>\n",
              "  <tbody>\n",
              "    <tr>\n",
              "      <th>0</th>\n",
              "      <td>79545.458574</td>\n",
              "      <td>7.009188</td>\n",
              "      <td>4.09</td>\n",
              "      <td>23086.800503</td>\n",
              "      <td>1.059034e+06</td>\n",
              "      <td>208 Michael Ferry Apt. 674\\nLaurabury, NE 3701...</td>\n",
              "      <td>0</td>\n",
              "      <td>0</td>\n",
              "    </tr>\n",
              "    <tr>\n",
              "      <th>1</th>\n",
              "      <td>79248.642455</td>\n",
              "      <td>6.730821</td>\n",
              "      <td>3.09</td>\n",
              "      <td>40173.072174</td>\n",
              "      <td>1.505891e+06</td>\n",
              "      <td>188 Johnson Views Suite 079\\nLake Kathleen, CA...</td>\n",
              "      <td>0</td>\n",
              "      <td>0</td>\n",
              "    </tr>\n",
              "    <tr>\n",
              "      <th>2</th>\n",
              "      <td>61287.067179</td>\n",
              "      <td>8.512727</td>\n",
              "      <td>5.13</td>\n",
              "      <td>36882.159400</td>\n",
              "      <td>1.058988e+06</td>\n",
              "      <td>9127 Elizabeth Stravenue\\nDanieltown, WI 06482...</td>\n",
              "      <td>0</td>\n",
              "      <td>0</td>\n",
              "    </tr>\n",
              "    <tr>\n",
              "      <th>3</th>\n",
              "      <td>63345.240046</td>\n",
              "      <td>5.586729</td>\n",
              "      <td>3.26</td>\n",
              "      <td>34310.242831</td>\n",
              "      <td>1.260617e+06</td>\n",
              "      <td>USS Barnett\\nFPO AP 44820</td>\n",
              "      <td>1</td>\n",
              "      <td>0</td>\n",
              "    </tr>\n",
              "  </tbody>\n",
              "</table>\n",
              "</div>"
            ],
            "text/plain": [
              "   Avg. Area Income  ...  House_size_Small\n",
              "0      79545.458574  ...                 0\n",
              "1      79248.642455  ...                 0\n",
              "2      61287.067179  ...                 0\n",
              "3      63345.240046  ...                 0\n",
              "\n",
              "[4 rows x 8 columns]"
            ]
          },
          "metadata": {
            "tags": []
          },
          "execution_count": 21
        }
      ]
    },
    {
      "cell_type": "code",
      "metadata": {
        "id": "Ep1Vkwx735PG",
        "colab_type": "code",
        "colab": {
          "base_uri": "https://localhost:8080/",
          "height": 34
        },
        "outputId": "2f082d34-d8b2-4aab-9338-fd351054f4d6"
      },
      "source": [
        "df4.shape"
      ],
      "execution_count": 22,
      "outputs": [
        {
          "output_type": "execute_result",
          "data": {
            "text/plain": [
              "(4990, 8)"
            ]
          },
          "metadata": {
            "tags": []
          },
          "execution_count": 22
        }
      ]
    },
    {
      "cell_type": "markdown",
      "metadata": {
        "id": "9vrIJBcy4-Gr",
        "colab_type": "text"
      },
      "source": [
        "# Scikit Learn for Scaling"
      ]
    },
    {
      "cell_type": "code",
      "metadata": {
        "id": "i_KWPs-p43F-",
        "colab_type": "code",
        "colab": {
          "base_uri": "https://localhost:8080/",
          "height": 197
        },
        "outputId": "d676f5cc-fe03-44c8-de46-2b2b95d4ffa2"
      },
      "source": [
        "pipeline_scale = pdp.Scale('StandardScaler',exclude_columns=['House_size_Medium','House_size_Small'])\n",
        "df5 = pipeline_scale(df4)\n",
        "df5.head(5)"
      ],
      "execution_count": 23,
      "outputs": [
        {
          "output_type": "execute_result",
          "data": {
            "text/html": [
              "<div>\n",
              "<style scoped>\n",
              "    .dataframe tbody tr th:only-of-type {\n",
              "        vertical-align: middle;\n",
              "    }\n",
              "\n",
              "    .dataframe tbody tr th {\n",
              "        vertical-align: top;\n",
              "    }\n",
              "\n",
              "    .dataframe thead th {\n",
              "        text-align: right;\n",
              "    }\n",
              "</style>\n",
              "<table border=\"1\" class=\"dataframe\">\n",
              "  <thead>\n",
              "    <tr style=\"text-align: right;\">\n",
              "      <th></th>\n",
              "      <th>Avg. Area Income</th>\n",
              "      <th>Avg. Area Number of Rooms</th>\n",
              "      <th>Avg. Area Number of Bedrooms</th>\n",
              "      <th>Area Population</th>\n",
              "      <th>Price</th>\n",
              "      <th>Address</th>\n",
              "      <th>House_size_Medium</th>\n",
              "      <th>House_size_Small</th>\n",
              "    </tr>\n",
              "  </thead>\n",
              "  <tbody>\n",
              "    <tr>\n",
              "      <th>0</th>\n",
              "      <td>1.028113</td>\n",
              "      <td>0.019595</td>\n",
              "      <td>0.087245</td>\n",
              "      <td>-1.322810</td>\n",
              "      <td>-0.500532</td>\n",
              "      <td>208 Michael Ferry Apt. 674\\nLaurabury, NE 3701...</td>\n",
              "      <td>-0.443768</td>\n",
              "      <td>-0.024527</td>\n",
              "    </tr>\n",
              "    <tr>\n",
              "      <th>1</th>\n",
              "      <td>1.000175</td>\n",
              "      <td>-0.257485</td>\n",
              "      <td>-0.722671</td>\n",
              "      <td>0.401923</td>\n",
              "      <td>0.775998</td>\n",
              "      <td>188 Johnson Views Suite 079\\nLake Kathleen, CA...</td>\n",
              "      <td>-0.443768</td>\n",
              "      <td>-0.024527</td>\n",
              "    </tr>\n",
              "    <tr>\n",
              "      <th>2</th>\n",
              "      <td>-0.690443</td>\n",
              "      <td>1.516179</td>\n",
              "      <td>0.929559</td>\n",
              "      <td>0.069730</td>\n",
              "      <td>-0.500662</td>\n",
              "      <td>9127 Elizabeth Stravenue\\nDanieltown, WI 06482...</td>\n",
              "      <td>-0.443768</td>\n",
              "      <td>-0.024527</td>\n",
              "    </tr>\n",
              "    <tr>\n",
              "      <th>3</th>\n",
              "      <td>-0.496719</td>\n",
              "      <td>-1.396285</td>\n",
              "      <td>-0.584986</td>\n",
              "      <td>-0.189886</td>\n",
              "      <td>0.075327</td>\n",
              "      <td>USS Barnett\\nFPO AP 44820</td>\n",
              "      <td>2.253432</td>\n",
              "      <td>-0.024527</td>\n",
              "    </tr>\n",
              "    <tr>\n",
              "      <th>4</th>\n",
              "      <td>-0.813263</td>\n",
              "      <td>0.845954</td>\n",
              "      <td>0.200634</td>\n",
              "      <td>-0.992999</td>\n",
              "      <td>-1.723449</td>\n",
              "      <td>USNS Raymond\\nFPO AE 09386</td>\n",
              "      <td>-0.443768</td>\n",
              "      <td>-0.024527</td>\n",
              "    </tr>\n",
              "  </tbody>\n",
              "</table>\n",
              "</div>"
            ],
            "text/plain": [
              "   Avg. Area Income  ...  House_size_Small\n",
              "0          1.028113  ...         -0.024527\n",
              "1          1.000175  ...         -0.024527\n",
              "2         -0.690443  ...         -0.024527\n",
              "3         -0.496719  ...         -0.024527\n",
              "4         -0.813263  ...         -0.024527\n",
              "\n",
              "[5 rows x 8 columns]"
            ]
          },
          "metadata": {
            "tags": []
          },
          "execution_count": 23
        }
      ]
    },
    {
      "cell_type": "markdown",
      "metadata": {
        "id": "1ImBy2Y75oRK",
        "colab_type": "text"
      },
      "source": [
        "# NLTK Tokernizer Stage\n"
      ]
    },
    {
      "cell_type": "code",
      "metadata": {
        "id": "X10NsUM55juK",
        "colab_type": "code",
        "colab": {
          "base_uri": "https://localhost:8080/",
          "height": 197
        },
        "outputId": "1ca7b757-373c-45b7-c59e-9ee072612b7b"
      },
      "source": [
        "pip_token = pdp.TokenizeText('Address')\n",
        "df6 = pip_token(df5)\n",
        "df6.head(5)"
      ],
      "execution_count": 28,
      "outputs": [
        {
          "output_type": "execute_result",
          "data": {
            "text/html": [
              "<div>\n",
              "<style scoped>\n",
              "    .dataframe tbody tr th:only-of-type {\n",
              "        vertical-align: middle;\n",
              "    }\n",
              "\n",
              "    .dataframe tbody tr th {\n",
              "        vertical-align: top;\n",
              "    }\n",
              "\n",
              "    .dataframe thead th {\n",
              "        text-align: right;\n",
              "    }\n",
              "</style>\n",
              "<table border=\"1\" class=\"dataframe\">\n",
              "  <thead>\n",
              "    <tr style=\"text-align: right;\">\n",
              "      <th></th>\n",
              "      <th>Avg. Area Income</th>\n",
              "      <th>Avg. Area Number of Rooms</th>\n",
              "      <th>Avg. Area Number of Bedrooms</th>\n",
              "      <th>Area Population</th>\n",
              "      <th>Price</th>\n",
              "      <th>Address</th>\n",
              "      <th>House_size_Medium</th>\n",
              "      <th>House_size_Small</th>\n",
              "    </tr>\n",
              "  </thead>\n",
              "  <tbody>\n",
              "    <tr>\n",
              "      <th>0</th>\n",
              "      <td>1.028113</td>\n",
              "      <td>0.019595</td>\n",
              "      <td>0.087245</td>\n",
              "      <td>-1.322810</td>\n",
              "      <td>-0.500532</td>\n",
              "      <td>[208, Michael, Ferry, Apt, ., 674, Laurabury, ...</td>\n",
              "      <td>-0.443768</td>\n",
              "      <td>-0.024527</td>\n",
              "    </tr>\n",
              "    <tr>\n",
              "      <th>1</th>\n",
              "      <td>1.000175</td>\n",
              "      <td>-0.257485</td>\n",
              "      <td>-0.722671</td>\n",
              "      <td>0.401923</td>\n",
              "      <td>0.775998</td>\n",
              "      <td>[188, Johnson, Views, Suite, 079, Lake, Kathle...</td>\n",
              "      <td>-0.443768</td>\n",
              "      <td>-0.024527</td>\n",
              "    </tr>\n",
              "    <tr>\n",
              "      <th>2</th>\n",
              "      <td>-0.690443</td>\n",
              "      <td>1.516179</td>\n",
              "      <td>0.929559</td>\n",
              "      <td>0.069730</td>\n",
              "      <td>-0.500662</td>\n",
              "      <td>[9127, Elizabeth, Stravenue, Danieltown, ,, WI...</td>\n",
              "      <td>-0.443768</td>\n",
              "      <td>-0.024527</td>\n",
              "    </tr>\n",
              "    <tr>\n",
              "      <th>3</th>\n",
              "      <td>-0.496719</td>\n",
              "      <td>-1.396285</td>\n",
              "      <td>-0.584986</td>\n",
              "      <td>-0.189886</td>\n",
              "      <td>0.075327</td>\n",
              "      <td>[USS, Barnett, FPO, AP, 44820]</td>\n",
              "      <td>2.253432</td>\n",
              "      <td>-0.024527</td>\n",
              "    </tr>\n",
              "    <tr>\n",
              "      <th>4</th>\n",
              "      <td>-0.813263</td>\n",
              "      <td>0.845954</td>\n",
              "      <td>0.200634</td>\n",
              "      <td>-0.992999</td>\n",
              "      <td>-1.723449</td>\n",
              "      <td>[USNS, Raymond, FPO, AE, 09386]</td>\n",
              "      <td>-0.443768</td>\n",
              "      <td>-0.024527</td>\n",
              "    </tr>\n",
              "  </tbody>\n",
              "</table>\n",
              "</div>"
            ],
            "text/plain": [
              "   Avg. Area Income  ...  House_size_Small\n",
              "0          1.028113  ...         -0.024527\n",
              "1          1.000175  ...         -0.024527\n",
              "2         -0.690443  ...         -0.024527\n",
              "3         -0.496719  ...         -0.024527\n",
              "4         -0.813263  ...         -0.024527\n",
              "\n",
              "[5 rows x 8 columns]"
            ]
          },
          "metadata": {
            "tags": []
          },
          "execution_count": 28
        }
      ]
    },
    {
      "cell_type": "code",
      "metadata": {
        "id": "qNR8b5Xj6vL0",
        "colab_type": "code",
        "colab": {
          "base_uri": "https://localhost:8080/",
          "height": 197
        },
        "outputId": "caf0a503-7b6d-4827-9312-6723b318dea8"
      },
      "source": [
        "def extract_state(token):\n",
        "    return str(token[-2])\n",
        "\n",
        "pipestate = pdp.ApplyByCols('Address',extract_state,result_columns='State')\n",
        "df7 = pipestate(df6)\n",
        "df7.head(5)"
      ],
      "execution_count": 31,
      "outputs": [
        {
          "output_type": "execute_result",
          "data": {
            "text/html": [
              "<div>\n",
              "<style scoped>\n",
              "    .dataframe tbody tr th:only-of-type {\n",
              "        vertical-align: middle;\n",
              "    }\n",
              "\n",
              "    .dataframe tbody tr th {\n",
              "        vertical-align: top;\n",
              "    }\n",
              "\n",
              "    .dataframe thead th {\n",
              "        text-align: right;\n",
              "    }\n",
              "</style>\n",
              "<table border=\"1\" class=\"dataframe\">\n",
              "  <thead>\n",
              "    <tr style=\"text-align: right;\">\n",
              "      <th></th>\n",
              "      <th>Avg. Area Income</th>\n",
              "      <th>Avg. Area Number of Rooms</th>\n",
              "      <th>Avg. Area Number of Bedrooms</th>\n",
              "      <th>Area Population</th>\n",
              "      <th>Price</th>\n",
              "      <th>State</th>\n",
              "      <th>House_size_Medium</th>\n",
              "      <th>House_size_Small</th>\n",
              "    </tr>\n",
              "  </thead>\n",
              "  <tbody>\n",
              "    <tr>\n",
              "      <th>0</th>\n",
              "      <td>1.028113</td>\n",
              "      <td>0.019595</td>\n",
              "      <td>0.087245</td>\n",
              "      <td>-1.322810</td>\n",
              "      <td>-0.500532</td>\n",
              "      <td>NE</td>\n",
              "      <td>-0.443768</td>\n",
              "      <td>-0.024527</td>\n",
              "    </tr>\n",
              "    <tr>\n",
              "      <th>1</th>\n",
              "      <td>1.000175</td>\n",
              "      <td>-0.257485</td>\n",
              "      <td>-0.722671</td>\n",
              "      <td>0.401923</td>\n",
              "      <td>0.775998</td>\n",
              "      <td>CA</td>\n",
              "      <td>-0.443768</td>\n",
              "      <td>-0.024527</td>\n",
              "    </tr>\n",
              "    <tr>\n",
              "      <th>2</th>\n",
              "      <td>-0.690443</td>\n",
              "      <td>1.516179</td>\n",
              "      <td>0.929559</td>\n",
              "      <td>0.069730</td>\n",
              "      <td>-0.500662</td>\n",
              "      <td>WI</td>\n",
              "      <td>-0.443768</td>\n",
              "      <td>-0.024527</td>\n",
              "    </tr>\n",
              "    <tr>\n",
              "      <th>3</th>\n",
              "      <td>-0.496719</td>\n",
              "      <td>-1.396285</td>\n",
              "      <td>-0.584986</td>\n",
              "      <td>-0.189886</td>\n",
              "      <td>0.075327</td>\n",
              "      <td>AP</td>\n",
              "      <td>2.253432</td>\n",
              "      <td>-0.024527</td>\n",
              "    </tr>\n",
              "    <tr>\n",
              "      <th>4</th>\n",
              "      <td>-0.813263</td>\n",
              "      <td>0.845954</td>\n",
              "      <td>0.200634</td>\n",
              "      <td>-0.992999</td>\n",
              "      <td>-1.723449</td>\n",
              "      <td>AE</td>\n",
              "      <td>-0.443768</td>\n",
              "      <td>-0.024527</td>\n",
              "    </tr>\n",
              "  </tbody>\n",
              "</table>\n",
              "</div>"
            ],
            "text/plain": [
              "   Avg. Area Income  ...  House_size_Small\n",
              "0          1.028113  ...         -0.024527\n",
              "1          1.000175  ...         -0.024527\n",
              "2         -0.690443  ...         -0.024527\n",
              "3         -0.496719  ...         -0.024527\n",
              "4         -0.813263  ...         -0.024527\n",
              "\n",
              "[5 rows x 8 columns]"
            ]
          },
          "metadata": {
            "tags": []
          },
          "execution_count": 31
        }
      ]
    },
    {
      "cell_type": "code",
      "metadata": {
        "id": "AjHRIuGw6Bny",
        "colab_type": "code",
        "colab": {}
      },
      "source": [
        ""
      ],
      "execution_count": 0,
      "outputs": []
    },
    {
      "cell_type": "code",
      "metadata": {
        "id": "rLIizwVe2K7J",
        "colab_type": "code",
        "colab": {}
      },
      "source": [
        "\n"
      ],
      "execution_count": 0,
      "outputs": []
    },
    {
      "cell_type": "code",
      "metadata": {
        "id": "2Se5mk8F1lIA",
        "colab_type": "code",
        "colab": {}
      },
      "source": [
        ""
      ],
      "execution_count": 0,
      "outputs": []
    }
  ]
}